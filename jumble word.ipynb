{
 "cells": [
  {
   "cell_type": "code",
   "execution_count": null,
   "id": "67fd6094",
   "metadata": {},
   "outputs": [],
   "source": [
    "import random\n",
    "def choose():\n",
    "    dict=['chitkara','rajpura','panchkula','abhishek','ambala']\n",
    "    word=random.choice(dict)\n",
    "    return word\n",
    "player=input(\"Enter your name\")\n",
    "print(\"\")\n",
    "n=int(1)\n",
    "point=0\n",
    "while (n==1):\n",
    "    pick=choose()\n",
    "    mix=''.join(random.sample(pick,len(pick)))\n",
    "    print(\"\")\n",
    "    print(\"Identify word=\",mix)\n",
    "    guess=input(\"\")\n",
    "    if guess==pick:\n",
    "        print(\"\")\n",
    "        print(\"Congratulation,your guess is correct\")\n",
    "        point=point+10\n",
    "    else:\n",
    "        print(\"\")\n",
    "        print(\"Good luck next time\")\n",
    "        point=point-10\n",
    "    n=int(input(\"Do you want to continue(press1)\"))\n",
    "    print(\"\")\n",
    "print(\"Your Score=\",point)"
   ]
  }
 ],
 "metadata": {
  "kernelspec": {
   "display_name": "Python 3 (ipykernel)",
   "language": "python",
   "name": "python3"
  },
  "language_info": {
   "codemirror_mode": {
    "name": "ipython",
    "version": 3
   },
   "file_extension": ".py",
   "mimetype": "text/x-python",
   "name": "python",
   "nbconvert_exporter": "python",
   "pygments_lexer": "ipython3",
   "version": "3.9.12"
  }
 },
 "nbformat": 4,
 "nbformat_minor": 5
}
